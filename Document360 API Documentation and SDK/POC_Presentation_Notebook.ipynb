{
 "cells": [
  {
   "cell_type": "markdown",
   "id": "e87d0e3f",
   "metadata": {},
   "source": [
    "# POC for Document360 API\n",
    "\n",
    "## POC coverage:\n",
    "* Getting Project Details, Categories, Articles\n",
    "* Checking, Creating & Deleting Users\n",
    "* Deleting and Creating Categories\n",
    "* Deleting, Creating & Publishing Articles\n",
    "* Creating Readers and Reader Group\n",
    "\n",
    "\n",
    "#### Note:\n",
    "The sleep time is used to prevent the API calls from exceeding the API call limit for the trial version of Document360 which leads to immediate blocking of the trial account"
   ]
  },
  {
   "cell_type": "code",
   "execution_count": 1,
   "id": "21c13e79",
   "metadata": {},
   "outputs": [],
   "source": [
    "import requests\n",
    "from time import sleep\n",
    "\"\"\"From api_resource, we will be importing classes which will hlp us make the API calls\"\"\"\n",
    "from api_resource import (\n",
    "    Project_Api,\n",
    "    Teams,\n",
    "    Category,\n",
    "    Article,\n",
    "    Misc_Articles,\n",
    "    Bulk_Articles,\n",
    "    Reader,\n",
    "    Reader_Group,\n",
    ")\n",
    "import json\n",
    "import warnings\n",
    "warnings.filterwarnings(\"ignore\")\n",
    "\n",
    "\n",
    "\"\"\"API tokens\"\"\"\n",
    "# for trial account, API token gets deleted over time. \n",
    "# During testing the POC, request the viewer to create a new Trial Account and use that account's token\n",
    "private_api_token = \"C914tZyYDm2o2ncWE6uf6oHgcg0y3+FOWBY7qmLZcDOF98qn+Fnn2ty9BW+6EN1WrsfkySn2xjExJvLJiIkweiAGgXFubusdoKTJZgRuwh9VkirucZT134LXgx8aszfRL6s0W/0hP8MGw1q8D9nAHA==\"\n",
    "\n",
    "\n",
    "\"\"\"base url\"\"\"\n",
    "base_url = \"https://apihub.document360.io/v1/\"\n",
    "\n",
    "\n",
    "\"\"\"defining headers\"\"\"\n",
    "private_headers = {\"api_token\": private_api_token, \"Content-Type\": \"application/json\"}\n",
    "\n",
    "\n",
    "\"\"\"creating objects\"\"\"\n",
    "prv_proj_obj = Project_Api(base_url=base_url, headers=private_headers)\n",
    "prv_teams_obj = Teams(base_url=base_url, headers=private_headers)\n",
    "prv_category_obj = Category(base_url=base_url, headers=private_headers)\n",
    "prv_article_obj = Article(base_url=base_url, headers=private_headers)\n",
    "prv_misc_articles_obj = Misc_Articles(base_url=base_url, headers=private_headers)\n",
    "prv_bulk_articles_obj = Bulk_Articles(base_url=base_url, headers=private_headers)\n",
    "prv_reader_obj = Reader(base_url=base_url, headers=private_headers)\n",
    "prv_reader_group_obj = Reader_Group(base_url=base_url, headers=private_headers)"
   ]
  },
  {
   "cell_type": "markdown",
   "id": "766a8d38",
   "metadata": {},
   "source": [
    "### Start screen of the Private Project\n",
    "<img src=\"images/1_start.png\">\n",
    "\n",
    "By default, Document360 starts with below Categories and articles in them:\n",
    "* Getting started\n",
    "* Home page builder\n",
    "* Drive\n",
    "* Analytics\n",
    "* Settings"
   ]
  },
  {
   "cell_type": "code",
   "execution_count": 2,
   "id": "f2155d75",
   "metadata": {},
   "outputs": [
    {
     "name": "stdout",
     "output_type": "stream",
     "text": [
      "({'data': [{'article_id': None, 'success': True, 'details': 'Successfully deleted article with an id e1aa7a9f-5b02-4bab-a71d-a274a1e7de6f'}, {'article_id': None, 'success': True, 'details': 'Successfully deleted article with an id 314afc67-474b-4bed-b2eb-a6fd26ae52e9'}, {'article_id': None, 'success': True, 'details': 'Successfully deleted article with an id bb0560e7-5389-4289-92ae-eeb5436a57ec'}, {'article_id': None, 'success': True, 'details': 'Successfully deleted article with an id f3c87177-b484-4cf1-a13b-bb85fec10993'}, {'article_id': None, 'success': True, 'details': 'Successfully deleted article with an id 797566d4-b3f8-4836-ad5a-153191ef087b'}, {'article_id': None, 'success': True, 'details': 'Successfully deleted article with an id ebce582c-39ff-4103-aa46-387483a59e9b'}, {'article_id': None, 'success': True, 'details': 'Successfully deleted article with an id 42bfa61e-53ae-4f22-bf8e-f4a021021593'}, {'article_id': None, 'success': True, 'details': 'Successfully deleted article with an id a22a0391-1cee-45a4-9cfd-77cc66e9e710'}, {'article_id': None, 'success': True, 'details': 'Successfully deleted article with an id bc7ed717-47dd-4ee3-9497-ea56b6a7dcee'}, {'article_id': None, 'success': True, 'details': 'Successfully deleted article with an id dc97b8d1-a3f1-4d58-8a64-4f872e013cf9'}, {'article_id': None, 'success': True, 'details': 'Successfully deleted article with an id 0dbe0cce-0f2d-4a09-89be-605f46d34db6'}, {'article_id': None, 'success': True, 'details': 'Successfully deleted article with an id fc98b50c-5d5c-4403-999a-11b01935646a'}, {'article_id': None, 'success': True, 'details': 'Successfully deleted article with an id 0cb0832c-033d-4a18-8128-c6e26853a685'}], 'extension_data': None, 'context': None, 'success': True, 'errors': [], 'warnings': [], 'information': []}, 200)\n"
     ]
    }
   ],
   "source": [
    "\"\"\"First, let us delete all articles so we can start fresh\"\"\"\n",
    "\n",
    "# private project ID (required for getting list of articles)\n",
    "prv_project_id = prv_proj_obj.get_project_id()\n",
    "\n",
    "sleep(1)\n",
    "\n",
    "# getting list of articles\n",
    "article_id_list_prv = prv_proj_obj.get_article_ID_list()\n",
    "\n",
    "sleep(1)\n",
    "\n",
    "\"\"\"We will delete first 4 articles\"\"\"\n",
    "\n",
    "bulk_delete_parameters = {\"article_ids\": article_id_list_prv.values()}\n",
    "print(prv_bulk_articles_obj.delete_bulk_articles(bulk_delete_parameters))\n",
    "\n",
    "sleep(1)"
   ]
  },
  {
   "cell_type": "code",
   "execution_count": 7,
   "id": "4326dfb3",
   "metadata": {},
   "outputs": [
    {
     "name": "stdout",
     "output_type": "stream",
     "text": [
      "({'extension_data': None, 'context': None, 'success': True, 'errors': [], 'warnings': [], 'information': [{'extension_data': None, 'description': 'Category removed successfully'}]}, 200)\n",
      "({'extension_data': None, 'context': None, 'success': True, 'errors': [], 'warnings': [], 'information': [{'extension_data': None, 'description': 'Category removed successfully'}]}, 200)\n",
      "({'extension_data': None, 'context': None, 'success': True, 'errors': [], 'warnings': [], 'information': [{'extension_data': None, 'description': 'Category removed successfully'}]}, 200)\n",
      "({'extension_data': None, 'context': None, 'success': True, 'errors': [], 'warnings': [], 'information': [{'extension_data': None, 'description': 'Category removed successfully'}]}, 200)\n",
      "({'extension_data': None, 'context': None, 'success': True, 'errors': [], 'warnings': [], 'information': [{'extension_data': None, 'description': 'Category removed successfully'}]}, 200)\n"
     ]
    }
   ],
   "source": [
    "\"\"\"We will then delete all Categories\"\"\"\n",
    "category_id_list_prv = prv_proj_obj.get_category_ID_list()\n",
    "\n",
    "\"\"\"since bulk delete option is not available for Categories, we will delete one by one via loop\"\"\"\n",
    "for cat_id in category_id_list_prv.values():\n",
    "    print(prv_category_obj.delete_category(cat_id))\n",
    "    sleep(2)"
   ]
  },
  {
   "cell_type": "markdown",
   "id": "5825ff8a",
   "metadata": {},
   "source": [
    "### Screen after deleting the Articles and Categories\n",
    "\n",
    "<img src=\"images/2_deleted_cat.png\">"
   ]
  },
  {
   "cell_type": "code",
   "execution_count": 8,
   "id": "1ea77a80",
   "metadata": {},
   "outputs": [],
   "source": [
    "\"\"\"Now that we have a clean slate, let us add Categories to our Project\"\"\"\n",
    "add_cat_prv_parameters_1 = {\n",
    "    \"name\": \"English Premier League\",\n",
    "    \"project_version_id\": prv_project_id,\n",
    "}\n",
    "prv_category_obj.post_add_category(add_cat_prv_parameters_1)\n",
    "\n",
    "sleep(1)\n",
    "\n",
    "add_cat_prv_parameters_2 = {\"name\": \"La Liga\", \"project_version_id\": prv_project_id}\n",
    "prv_category_obj.post_add_category(add_cat_prv_parameters_2)\n",
    "\n",
    "sleep(1)\n",
    "\n",
    "add_cat_prv_parameters_3 = {\"name\": \"Serie A\", \"project_version_id\": prv_project_id}\n",
    "prv_category_obj.post_add_category(add_cat_prv_parameters_3)\n",
    "\n",
    "sleep(1)\n",
    "\n",
    "add_cat_prv_parameters_4 = {\"name\": \"Bundesliga\", \"project_version_id\": prv_project_id}\n",
    "prv_category_obj.post_add_category(add_cat_prv_parameters_4)\n",
    "\n",
    "sleep(1)"
   ]
  },
  {
   "cell_type": "code",
   "execution_count": 9,
   "id": "64a4d898",
   "metadata": {},
   "outputs": [],
   "source": [
    "\"\"\"Get list of new Category IDs\"\"\"\n",
    "category_id_list_prv = prv_proj_obj.get_category_ID_list()"
   ]
  },
  {
   "cell_type": "code",
   "execution_count": 17,
   "id": "6485ed79",
   "metadata": {},
   "outputs": [
    {
     "name": "stdout",
     "output_type": "stream",
     "text": [
      "({'data': [{'article_id': 'b9faf26a-fd30-4d2d-88c2-b5bb8f97b105', 'success': True, 'details': 'Successfully created article Teams in EPL'}, {'article_id': 'edd84ace-187c-49be-a259-5f1e4c9a2f96', 'success': True, 'details': 'Successfully created article Teams in La Liga'}], 'extension_data': None, 'context': None, 'success': True, 'errors': [], 'warnings': [], 'information': []}, 200)\n"
     ]
    }
   ],
   "source": [
    "\"\"\"Add Articles in the Categories\"\"\"\n",
    "user_id = prv_teams_obj.primary_user_id()\n",
    "\n",
    "sleep(1)\n",
    "\n",
    "parameters = [\n",
    "    {\n",
    "        \"title\": \"Teams in EPL\",\n",
    "        \"category_id\": list(category_id_list_prv.values())[0],\n",
    "        \"project_version_id\": prv_project_id,\n",
    "        \"user_id\": user_id,\n",
    "        \"content\": \"#Top Teams in EPL are <br> Man City, Man Utd, Chelsea, Liverpool\",\n",
    "    },\n",
    "    {\n",
    "        \"title\": \"Teams in La Liga\",\n",
    "        \"category_id\": list(category_id_list_prv.values())[1],\n",
    "        \"project_version_id\": prv_project_id,\n",
    "        \"user_id\": user_id,\n",
    "        \"content\": \"#Top Teams in La Liga are <br> Real Madrid, Atletico Madrid, Barcelona, Villarreal\",\n",
    "    },\n",
    "]\n",
    "\n",
    "print(prv_bulk_articles_obj.post_bulk_add_articles(parameters=parameters))\n",
    "\n",
    "sleep(1)"
   ]
  },
  {
   "cell_type": "markdown",
   "id": "42b5a7ae",
   "metadata": {},
   "source": [
    "## After adding the Categories and Articles, the Project Page appears as below:\n",
    "<img src=\"images/3_posted_articles.png\">\n",
    "\n",
    "## On Website, the documentation appears as below:\n",
    "### Note: Only published items will be visible on Website\n",
    "<img src=\"images/4_website_docs.png\">"
   ]
  },
  {
   "cell_type": "code",
   "execution_count": 20,
   "id": "dfaf4b7f",
   "metadata": {},
   "outputs": [
    {
     "name": "stdout",
     "output_type": "stream",
     "text": [
      "({'data': {'id': 'da44dd9a-b5f2-498e-95e3-f1ce6f3d78b3', 'name': 'English Premier League', 'project_version_id': '81a28e19-495d-41a7-9ab7-0500f2113b80', 'order': 1, 'parent_category_id': None, 'hidden': False, 'articles': [{'id': 'b9faf26a-fd30-4d2d-88c2-b5bb8f97b105', 'title': 'Teams in EPL', 'public_version': 0, 'latest_version': 1, 'hidden': False, 'status': 0, 'order': 1, 'slug': 'teams-in-epl', 'content_type': None}], 'child_categories': [], 'icon': None, 'slug': None, 'category_type': 0, 'created_at': '2021-08-20T06:19:24.55Z', 'modified_at': '2021-08-20T06:19:24.55Z'}, 'extension_data': None, 'context': None, 'success': True, 'errors': [], 'warnings': [], 'information': []}, 200)\n",
      "({'data': {'id': 'b4543483-4d0c-4648-82fd-f571e57d6025', 'name': 'La Liga', 'project_version_id': '81a28e19-495d-41a7-9ab7-0500f2113b80', 'order': 2, 'parent_category_id': None, 'hidden': False, 'articles': [{'id': 'edd84ace-187c-49be-a259-5f1e4c9a2f96', 'title': 'Teams in La Liga', 'public_version': 0, 'latest_version': 1, 'hidden': False, 'status': 0, 'order': 1, 'slug': 'teams-in-la-liga', 'content_type': None}], 'child_categories': [], 'icon': None, 'slug': None, 'category_type': 0, 'created_at': '2021-08-20T06:19:26.853Z', 'modified_at': '2021-08-20T06:19:26.853Z'}, 'extension_data': None, 'context': None, 'success': True, 'errors': [], 'warnings': [], 'information': []}, 200)\n",
      "({'data': {'id': '68846916-5ede-4689-be1f-a0765aa9068a', 'name': 'Serie A', 'project_version_id': '81a28e19-495d-41a7-9ab7-0500f2113b80', 'order': 3, 'parent_category_id': None, 'hidden': False, 'articles': [], 'child_categories': [], 'icon': None, 'slug': None, 'category_type': 0, 'created_at': '2021-08-20T06:19:28.438Z', 'modified_at': '2021-08-20T06:19:28.438Z'}, 'extension_data': None, 'context': None, 'success': True, 'errors': [], 'warnings': [], 'information': []}, 200)\n",
      "({'data': {'id': '13249263-35fc-4161-86d4-d6296d0342e7', 'name': 'Bundesliga', 'project_version_id': '81a28e19-495d-41a7-9ab7-0500f2113b80', 'order': 4, 'parent_category_id': None, 'hidden': False, 'articles': [], 'child_categories': [], 'icon': None, 'slug': None, 'category_type': 0, 'created_at': '2021-08-20T06:19:31.153Z', 'modified_at': '2021-08-20T06:19:31.153Z'}, 'extension_data': None, 'context': None, 'success': True, 'errors': [], 'warnings': [], 'information': []}, 200)\n"
     ]
    }
   ],
   "source": [
    "\"\"\"List of new Categories & Articles inside it\"\"\"\n",
    "\n",
    "cat_id_dict = prv_proj_obj.get_category_ID_list()\n",
    "\n",
    "for cat_id in list(cat_id_dict.values()):\n",
    "    print(prv_category_obj.get_category(cat_id))\n",
    "\n",
    "sleep(1)"
   ]
  },
  {
   "cell_type": "code",
   "execution_count": 21,
   "id": "a00a40d8",
   "metadata": {},
   "outputs": [],
   "source": [
    "sleep(1)\n",
    "\n",
    "article_id_list_prv = prv_proj_obj.get_article_ID_list()"
   ]
  },
  {
   "cell_type": "code",
   "execution_count": 23,
   "id": "0c742e27",
   "metadata": {},
   "outputs": [
    {
     "name": "stdout",
     "output_type": "stream",
     "text": [
      "({'data': [], 'extension_data': None, 'context': None, 'success': True, 'errors': [], 'warnings': [], 'information': []}, 200)\n"
     ]
    }
   ],
   "source": [
    "\"\"\"To publish articles on web, we can make the below API call. We will be using bulk upload option\"\"\"\n",
    "params = []\n",
    "for art_id in article_id_list_prv:\n",
    "    params.append({\"article_id\" : art_id, \"version_number\": 1, \"user_id\": user_id})\n",
    "\n",
    "print(prv_bulk_articles_obj.post_bulk_publish_articles(parameters=params))\n",
    "sleep(5)"
   ]
  },
  {
   "cell_type": "markdown",
   "id": "5745a25f",
   "metadata": {},
   "source": [
    "## To Check Users in System & Add New Users"
   ]
  },
  {
   "cell_type": "code",
   "execution_count": 24,
   "id": "dfdcd76a",
   "metadata": {},
   "outputs": [
    {
     "name": "stdout",
     "output_type": "stream",
     "text": [
      "({'data': [{'id': '79ac0c30-ee1d-4683-8bd1-9f6afcc0899b', 'first_name': 'Fred', 'last_name': 'Jones', 'email_id': 'mirkeberko@biyac.com', 'profile_logo_url': 'https://www.gravatar.com/avatar/5AC513E6B4C6C9BC5A91623E3D15D3E2', 'user_role': 7, 'last_login_at': '2021-08-19T07:29:50.596Z', 'unique_user_name': 'fredjones', 'sso_user_type': 0, 'is_sso_user': False}, {'id': '5801b7ff-5879-4ac1-bebb-fd420ae05af4', 'first_name': None, 'last_name': None, 'email_id': 'frank.lampard@chelsea.com', 'profile_logo_url': 'https://www.gravatar.com/avatar/2A23245ACAD986538D6E54750D029218', 'user_role': 2, 'last_login_at': None, 'unique_user_name': 'franklampard', 'sso_user_type': 0, 'is_sso_user': False}, {'id': '9a634e59-aa53-42d5-b082-1d9ab74c9997', 'first_name': None, 'last_name': None, 'email_id': 'saul.raul@email.com', 'profile_logo_url': 'https://www.gravatar.com/avatar/ECB7E7D6B7DD06E2FE4410BB10A0C601', 'user_role': 4, 'last_login_at': None, 'unique_user_name': 'saulraul', 'sso_user_type': 0, 'is_sso_user': False}, {'id': 'f719067e-edd3-4c68-a131-9e75ccc7d536', 'first_name': None, 'last_name': None, 'email_id': 'fernando.hierro@email.com', 'profile_logo_url': 'https://www.gravatar.com/avatar/35B2EC2F6F3A52ED7D02B92840CE644F', 'user_role': 4, 'last_login_at': None, 'unique_user_name': 'fernandohierro', 'sso_user_type': 0, 'is_sso_user': False}, {'id': 'ca13438e-2199-4a2c-ac3c-47170aad37d2', 'first_name': None, 'last_name': None, 'email_id': 'xabi.alonso@email.com', 'profile_logo_url': 'https://www.gravatar.com/avatar/840BD951E98A0BFD1505FFC25BCA9354', 'user_role': 4, 'last_login_at': None, 'unique_user_name': 'xabialonso', 'sso_user_type': 0, 'is_sso_user': False}, {'id': 'f0e3ace0-ddec-41e2-ad2f-b1e18ae39fd0', 'first_name': None, 'last_name': None, 'email_id': 'dele.aley@email.com', 'profile_logo_url': 'https://www.gravatar.com/avatar/5A404892D2D43888632C1C9F1FAE2647', 'user_role': 4, 'last_login_at': None, 'unique_user_name': 'delealey', 'sso_user_type': 0, 'is_sso_user': False}], 'extension_data': None, 'context': None, 'success': True, 'errors': [], 'warnings': [], 'information': []}, 200)\n"
     ]
    }
   ],
   "source": [
    "\"\"\"Check current users\"\"\"\n",
    "print(prv_teams_obj.get_users())"
   ]
  },
  {
   "cell_type": "code",
   "execution_count": 25,
   "id": "0c63039f",
   "metadata": {},
   "outputs": [
    {
     "name": "stdout",
     "output_type": "stream",
     "text": [
      "({'data': {'id': '7511058c-40df-4055-a1f6-75c6e7001d15'}, 'extension_data': None, 'context': None, 'success': True, 'errors': [], 'warnings': [], 'information': []}, 200)\n"
     ]
    }
   ],
   "source": [
    "\"\"\"Adding a user with user_role as editor\"\"\"\n",
    "\n",
    "parameters = {\n",
    "    \"email_id\": \"mark.noble@email.com\",\n",
    "    \"user_role\": 2,\n",
    "    \"user_id\": user_id,\n",
    "    \"is_sso_user\": False,\n",
    "}\n",
    "\n",
    "sleep(1)\n",
    "\n",
    "print(prv_teams_obj.post_add_user(parameters=parameters))"
   ]
  },
  {
   "cell_type": "markdown",
   "id": "13ac26b8",
   "metadata": {},
   "source": [
    "## Added User is visible in Team & Security of Project Dashboard\n",
    "<img src=\"images/5_users.png\">"
   ]
  },
  {
   "cell_type": "code",
   "execution_count": 26,
   "id": "51d7dd55",
   "metadata": {},
   "outputs": [
    {
     "name": "stdout",
     "output_type": "stream",
     "text": [
      "({'data': {'id': '0c462671-19fa-42f1-93ef-8658d5760c33'}, 'extension_data': None, 'context': None, 'success': True, 'errors': [], 'warnings': [], 'information': []}, 200)\n"
     ]
    }
   ],
   "source": [
    "\"\"\"Adding a user with user_role as 'reader' \"\"\"\n",
    "\n",
    "parameters = {\n",
    "    \"email_id\": \"codabo6388@asmm5.com\",\n",
    "    \"user_role\": 4,\n",
    "    \"user_id\": user_id,\n",
    "    \"is_sso_user\": False,\n",
    "}\n",
    "\n",
    "sleep(1)\n",
    "\n",
    "print(prv_teams_obj.post_add_user(parameters=parameters))"
   ]
  },
  {
   "cell_type": "code",
   "execution_count": 27,
   "id": "839724fd",
   "metadata": {},
   "outputs": [
    {
     "name": "stdout",
     "output_type": "stream",
     "text": [
      "({'data': [{'id': '79ac0c30-ee1d-4683-8bd1-9f6afcc0899b', 'first_name': 'Fred', 'last_name': 'Jones', 'email_id': 'mirkeberko@biyac.com', 'profile_logo_url': 'https://www.gravatar.com/avatar/5AC513E6B4C6C9BC5A91623E3D15D3E2', 'user_role': 7, 'last_login_at': '2021-08-19T07:29:50.596Z', 'unique_user_name': 'fredjones', 'sso_user_type': 0, 'is_sso_user': False}, {'id': '5801b7ff-5879-4ac1-bebb-fd420ae05af4', 'first_name': None, 'last_name': None, 'email_id': 'frank.lampard@chelsea.com', 'profile_logo_url': 'https://www.gravatar.com/avatar/2A23245ACAD986538D6E54750D029218', 'user_role': 2, 'last_login_at': None, 'unique_user_name': 'franklampard', 'sso_user_type': 0, 'is_sso_user': False}, {'id': '9a634e59-aa53-42d5-b082-1d9ab74c9997', 'first_name': None, 'last_name': None, 'email_id': 'saul.raul@email.com', 'profile_logo_url': 'https://www.gravatar.com/avatar/ECB7E7D6B7DD06E2FE4410BB10A0C601', 'user_role': 4, 'last_login_at': None, 'unique_user_name': 'saulraul', 'sso_user_type': 0, 'is_sso_user': False}, {'id': 'f719067e-edd3-4c68-a131-9e75ccc7d536', 'first_name': None, 'last_name': None, 'email_id': 'fernando.hierro@email.com', 'profile_logo_url': 'https://www.gravatar.com/avatar/35B2EC2F6F3A52ED7D02B92840CE644F', 'user_role': 4, 'last_login_at': None, 'unique_user_name': 'fernandohierro', 'sso_user_type': 0, 'is_sso_user': False}, {'id': 'ca13438e-2199-4a2c-ac3c-47170aad37d2', 'first_name': None, 'last_name': None, 'email_id': 'xabi.alonso@email.com', 'profile_logo_url': 'https://www.gravatar.com/avatar/840BD951E98A0BFD1505FFC25BCA9354', 'user_role': 4, 'last_login_at': None, 'unique_user_name': 'xabialonso', 'sso_user_type': 0, 'is_sso_user': False}, {'id': 'f0e3ace0-ddec-41e2-ad2f-b1e18ae39fd0', 'first_name': None, 'last_name': None, 'email_id': 'dele.aley@email.com', 'profile_logo_url': 'https://www.gravatar.com/avatar/5A404892D2D43888632C1C9F1FAE2647', 'user_role': 4, 'last_login_at': None, 'unique_user_name': 'delealey', 'sso_user_type': 0, 'is_sso_user': False}, {'id': '7511058c-40df-4055-a1f6-75c6e7001d15', 'first_name': None, 'last_name': None, 'email_id': 'mark.noble@email.com', 'profile_logo_url': 'https://www.gravatar.com/avatar/0BEEB3830101AAE5CF24B9DECDD5CC66', 'user_role': 2, 'last_login_at': None, 'unique_user_name': 'marknoble', 'sso_user_type': 0, 'is_sso_user': False}, {'id': '0c462671-19fa-42f1-93ef-8658d5760c33', 'first_name': 'tick', 'last_name': 'tock', 'email_id': 'codabo6388@asmm5.com', 'profile_logo_url': 'https://www.gravatar.com/avatar/D062B1C28448AAB4032B6AF47423288D', 'user_role': 4, 'last_login_at': '2021-08-18T00:56:04.791Z', 'unique_user_name': 'tick', 'sso_user_type': 0, 'is_sso_user': False}], 'extension_data': None, 'context': None, 'success': True, 'errors': [], 'warnings': [], 'information': []}, 200)\n"
     ]
    }
   ],
   "source": [
    "\"\"\"Recheck current users after addition\"\"\"\n",
    "print(prv_teams_obj.get_users())\n",
    "\n",
    "sleep(1)"
   ]
  },
  {
   "cell_type": "markdown",
   "id": "cc60577d",
   "metadata": {},
   "source": [
    "## To Create Readers (Applicable only in case of Private Projects)\n",
    "Only created readers will be able to see the Documentation"
   ]
  },
  {
   "cell_type": "code",
   "execution_count": 28,
   "id": "5987c8c9",
   "metadata": {},
   "outputs": [
    {
     "name": "stdout",
     "output_type": "stream",
     "text": [
      "({'data': [{'reader_id': '9a634e59-aa53-42d5-b082-1d9ab74c9997', 'first_name': None, 'last_name': None, 'email_id': 'saul.raul@email.com', 'last_login_at': None}, {'reader_id': 'f719067e-edd3-4c68-a131-9e75ccc7d536', 'first_name': None, 'last_name': None, 'email_id': 'fernando.hierro@email.com', 'last_login_at': None}, {'reader_id': 'ca13438e-2199-4a2c-ac3c-47170aad37d2', 'first_name': None, 'last_name': None, 'email_id': 'xabi.alonso@email.com', 'last_login_at': None}, {'reader_id': 'f0e3ace0-ddec-41e2-ad2f-b1e18ae39fd0', 'first_name': None, 'last_name': None, 'email_id': 'dele.aley@email.com', 'last_login_at': None}, {'reader_id': '0c462671-19fa-42f1-93ef-8658d5760c33', 'first_name': 'tick', 'last_name': 'tock', 'email_id': 'codabo6388@asmm5.com', 'last_login_at': '2021-08-18T00:56:04.791Z'}], 'extension_data': None, 'context': None, 'success': True, 'errors': [], 'warnings': [], 'information': []}, 200)\n"
     ]
    }
   ],
   "source": [
    "\"\"\"Check existing readers (Earlier we added codabo6388@asmm5.com as 'reader')\"\"\"\n",
    "print(prv_reader_obj.get_readers())\n",
    "\n",
    "sleep(1)"
   ]
  },
  {
   "cell_type": "code",
   "execution_count": 29,
   "id": "88e0f94a",
   "metadata": {},
   "outputs": [
    {
     "name": "stdout",
     "output_type": "stream",
     "text": [
      "({'data': {'id': '392d9f7d-272d-4a7b-abb4-d2fd4b76dab5'}, 'extension_data': None, 'context': None, 'success': True, 'errors': [], 'warnings': [], 'information': []}, 200)\n",
      "({'data': {'id': 'f4ddd4f6-4e5f-4da0-946d-24729b575b49'}, 'extension_data': None, 'context': None, 'success': True, 'errors': [], 'warnings': [], 'information': []}, 200)\n"
     ]
    }
   ],
   "source": [
    "\"\"\"Adding new readers\"\"\"\n",
    "\n",
    "email_list = [\"bacaxa4582@cytsl.com\",\"rarkadusti@biyac.com\"]\n",
    "\n",
    "for email in email_list:\n",
    "    parameters = {\"email_id\": email}\n",
    "    print(prv_reader_obj.post_add_reader(parameters))\n",
    "    sleep(2)"
   ]
  },
  {
   "cell_type": "code",
   "execution_count": 30,
   "id": "5ed94ee4",
   "metadata": {},
   "outputs": [
    {
     "name": "stdout",
     "output_type": "stream",
     "text": [
      "({'data': [{'reader_id': '9a634e59-aa53-42d5-b082-1d9ab74c9997', 'first_name': None, 'last_name': None, 'email_id': 'saul.raul@email.com', 'last_login_at': None}, {'reader_id': 'f719067e-edd3-4c68-a131-9e75ccc7d536', 'first_name': None, 'last_name': None, 'email_id': 'fernando.hierro@email.com', 'last_login_at': None}, {'reader_id': 'ca13438e-2199-4a2c-ac3c-47170aad37d2', 'first_name': None, 'last_name': None, 'email_id': 'xabi.alonso@email.com', 'last_login_at': None}, {'reader_id': 'f0e3ace0-ddec-41e2-ad2f-b1e18ae39fd0', 'first_name': None, 'last_name': None, 'email_id': 'dele.aley@email.com', 'last_login_at': None}, {'reader_id': '0c462671-19fa-42f1-93ef-8658d5760c33', 'first_name': 'tick', 'last_name': 'tock', 'email_id': 'codabo6388@asmm5.com', 'last_login_at': '2021-08-18T00:56:04.791Z'}, {'reader_id': '392d9f7d-272d-4a7b-abb4-d2fd4b76dab5', 'first_name': 'David', 'last_name': 'Silva', 'email_id': 'bacaxa4582@cytsl.com', 'last_login_at': '2021-08-19T05:55:15.62Z'}, {'reader_id': 'f4ddd4f6-4e5f-4da0-946d-24729b575b49', 'first_name': 'Chuck', 'last_name': 'Jones', 'email_id': 'rarkadusti@biyac.com', 'last_login_at': '2021-08-19T10:22:31.234Z'}], 'extension_data': None, 'context': None, 'success': True, 'errors': [], 'warnings': [], 'information': []}, 200)\n"
     ]
    }
   ],
   "source": [
    "\"\"\"Checking updated reader list\"\"\"\n",
    "print(prv_reader_obj.get_readers())"
   ]
  },
  {
   "cell_type": "markdown",
   "id": "c3766be6",
   "metadata": {},
   "source": [
    "## Creation of Reader Group"
   ]
  },
  {
   "cell_type": "code",
   "execution_count": 31,
   "id": "76eb4352",
   "metadata": {},
   "outputs": [],
   "source": [
    "\"\"\"Creating 3 categories for Content_Writer, Software_Engineers, Owner\"\"\"\n",
    "\n",
    "parameters_cw = {\n",
    "    \"name\": \"Content Writer Category\",\n",
    "    \"project_version_id\": prv_project_id,    \n",
    "    \"content\": \"# This category is for the Content Writer <br> ### This is the body of the page\",\n",
    "    \"category_type\": 1,\n",
    "    \"user_id\": user_id,\n",
    "}\n",
    "prv_category_obj.post_add_category(parameters_cw)\n",
    "sleep(2)\n",
    "\n",
    "parameters_se = {\n",
    "    \"name\": \"Software Engineer Category\",\n",
    "    \"project_version_id\": prv_project_id,\n",
    "    \"content\": \"# This category is for the SE <br> ### This is the body of the page\",\n",
    "    \"category_type\": 1,\n",
    "    \"user_id\": user_id,\n",
    "}\n",
    "prv_category_obj.post_add_category(parameters_se)\n",
    "sleep(2)"
   ]
  },
  {
   "cell_type": "code",
   "execution_count": 34,
   "id": "38535471",
   "metadata": {},
   "outputs": [
    {
     "data": {
      "text/plain": [
       "{'English Premier League': 'da44dd9a-b5f2-498e-95e3-f1ce6f3d78b3',\n",
       " 'La Liga': 'b4543483-4d0c-4648-82fd-f571e57d6025',\n",
       " 'Serie A': '68846916-5ede-4689-be1f-a0765aa9068a',\n",
       " 'Bundesliga': '13249263-35fc-4161-86d4-d6296d0342e7',\n",
       " 'Content Writer Category': '8ce4d170-98ba-42a9-8ba0-795c73cd20f6',\n",
       " 'Software Engineer Category': '91df25a9-89ae-481f-b6cd-2bb4ac28beef'}"
      ]
     },
     "execution_count": 34,
     "metadata": {},
     "output_type": "execute_result"
    }
   ],
   "source": [
    "\"\"\"Checking the updated Category ID list\"\"\"\n",
    "cat_id_dict = prv_proj_obj.get_category_ID_list()\n",
    "cat_id_dict"
   ]
  },
  {
   "cell_type": "code",
   "execution_count": 35,
   "id": "7b9ceac4",
   "metadata": {},
   "outputs": [
    {
     "name": "stdout",
     "output_type": "stream",
     "text": [
      "({'data': [{'article_id': '53854633-b641-4bbb-ae1f-e6bb144b42fe', 'success': True, 'details': 'Successfully created article Content Writer Article'}, {'article_id': '021dbd67-cad5-4345-a134-cae8b443151c', 'success': True, 'details': 'Successfully created article Software Engineer Article'}], 'extension_data': None, 'context': None, 'success': True, 'errors': [], 'warnings': [], 'information': []}, 200)\n"
     ]
    }
   ],
   "source": [
    "\"\"\"Adding Articles\"\"\"\n",
    "parameters = [\n",
    "    {\n",
    "        \"title\": \"Content Writer Article\",\n",
    "        \"category_id\": cat_id_dict[\"Content Writer Category\"],\n",
    "        \"project_version_id\": prv_project_id,\n",
    "        \"user_id\": user_id,\n",
    "        \"content\": \"# Content Writer Article <br> Enter the body of the content here\",\n",
    "    },\n",
    "    {\n",
    "        \"title\": \"Software Engineer Article\",\n",
    "        \"category_id\": cat_id_dict[\"Software Engineer Category\"],\n",
    "        \"project_version_id\": prv_project_id,\n",
    "        \"user_id\": user_id,\n",
    "        \"content\": \"# SE Article <br> Enter the body of the content here\",\n",
    "    },\n",
    "]\n",
    "print(prv_bulk_articles_obj.post_bulk_add_articles(parameters))\n",
    "sleep(2)"
   ]
  },
  {
   "cell_type": "code",
   "execution_count": 36,
   "id": "ff0f2743",
   "metadata": {},
   "outputs": [
    {
     "name": "stdout",
     "output_type": "stream",
     "text": [
      "{'Teams in EPL': 'b9faf26a-fd30-4d2d-88c2-b5bb8f97b105', 'Teams in La Liga': 'edd84ace-187c-49be-a259-5f1e4c9a2f96', 'Content Writer Article': '53854633-b641-4bbb-ae1f-e6bb144b42fe', 'Software Engineer Article': '021dbd67-cad5-4345-a134-cae8b443151c'}\n"
     ]
    }
   ],
   "source": [
    "\"\"\"Get article IDs\"\"\"\n",
    "art_id_dict = prv_proj_obj.get_article_ID_list()\n",
    "print(art_id_dict)"
   ]
  },
  {
   "cell_type": "code",
   "execution_count": 37,
   "id": "2d5f1b6b",
   "metadata": {},
   "outputs": [
    {
     "name": "stdout",
     "output_type": "stream",
     "text": [
      "({'data': [{'article_id': '021dbd67-cad5-4345-a134-cae8b443151c', 'success': True, 'details': 'Successfully published article with an id 021dbd67-cad5-4345-a134-cae8b443151c'}, {'article_id': '53854633-b641-4bbb-ae1f-e6bb144b42fe', 'success': True, 'details': 'Successfully published article with an id 53854633-b641-4bbb-ae1f-e6bb144b42fe'}, {'article_id': 'b9faf26a-fd30-4d2d-88c2-b5bb8f97b105', 'success': True, 'details': 'Successfully published article with an id b9faf26a-fd30-4d2d-88c2-b5bb8f97b105'}, {'article_id': 'edd84ace-187c-49be-a259-5f1e4c9a2f96', 'success': True, 'details': 'Successfully published article with an id edd84ace-187c-49be-a259-5f1e4c9a2f96'}], 'extension_data': None, 'context': None, 'success': True, 'errors': [], 'warnings': [], 'information': []}, 200)\n"
     ]
    }
   ],
   "source": [
    "\"\"\"Pulishing Articles\"\"\"\n",
    "sleep(2)\n",
    "params = []\n",
    "for article in art_id_dict.values():\n",
    "    params.append({\"article_id\" : article, \"version_number\": 1, \"user_id\": user_id})\n",
    "\n",
    "print(prv_bulk_articles_obj.post_bulk_publish_articles(parameters=params))"
   ]
  },
  {
   "cell_type": "code",
   "execution_count": 41,
   "id": "58e85908",
   "metadata": {},
   "outputs": [
    {
     "name": "stdout",
     "output_type": "stream",
     "text": [
      "({'data': {'id': 'dccdc3f7-c49a-4de0-9306-2baf45d4e87e'}, 'extension_data': None, 'context': None, 'success': True, 'errors': [], 'warnings': [], 'information': []}, 200)\n",
      "({'data': {'id': 'e497980d-a9a7-460a-8905-f797fc826255'}, 'extension_data': None, 'context': None, 'success': True, 'errors': [], 'warnings': [], 'information': []}, 200)\n"
     ]
    }
   ],
   "source": [
    "\"\"\"Creating Reader Groups\"\"\"\n",
    "\n",
    "access_scope_g1 = {\n",
    "    \"access_level\": 1,\n",
    "    \"categories\": [\n",
    "cat_id_dict[\"Content Writer Category\"]\n",
    "    ]\n",
    "}\n",
    "\n",
    "parameters_g1 = {\n",
    "    # MANDATORY_PARAMETER\n",
    "    \"title\": \"Content Writer Group\",\n",
    "    # OPTIONAL_PARAMETER\n",
    "    \"description\": \"Group for Content Writer\",\n",
    "    \"associated_readers\":[\"9a634e59-aa53-42d5-b082-1d9ab74c9997\", \"0c462671-19fa-42f1-93ef-8658d5760c33\"],\n",
    "    \"access_scope\": access_scope_g1,\n",
    "}\n",
    "\n",
    "print(prv_reader_group_obj.post_add_group(parameters_g1))\n",
    "sleep(5)\n",
    "\n",
    "access_scope_g2 = {\n",
    "    \"access_level\": 1,\n",
    "    \"categories\": [\n",
    "cat_id_dict[\"Software Engineer Category\"]\n",
    "    ]\n",
    "}\n",
    "\n",
    "parameters_g2 = {\n",
    "    # MANDATORY_PARAMETER\n",
    "    \"title\": \"Software Engineer Group\",\n",
    "    # OPTIONAL_PARAMETER\n",
    "    \"description\": \"Group for Software Engineer\",\n",
    "    \"associated_readers\":[\"392d9f7d-272d-4a7b-abb4-d2fd4b76dab5\",\"f4ddd4f6-4e5f-4da0-946d-24729b575b49\"],\n",
    "    \"access_scope\": access_scope_g2,\n",
    "}\n",
    "\n",
    "print(prv_reader_group_obj.post_add_group(parameters_g2))"
   ]
  }
 ],
 "metadata": {
  "kernelspec": {
   "display_name": "Python 3",
   "language": "python",
   "name": "python3"
  },
  "language_info": {
   "codemirror_mode": {
    "name": "ipython",
    "version": 3
   },
   "file_extension": ".py",
   "mimetype": "text/x-python",
   "name": "python",
   "nbconvert_exporter": "python",
   "pygments_lexer": "ipython3",
   "version": "3.8.8"
  }
 },
 "nbformat": 4,
 "nbformat_minor": 5
}
